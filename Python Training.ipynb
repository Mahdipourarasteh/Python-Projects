{
 "cells": [
  {
   "cell_type": "code",
   "execution_count": 9,
   "id": "d1056de0",
   "metadata": {},
   "outputs": [
    {
     "name": "stdout",
     "output_type": "stream",
     "text": [
      "This minute seems a little odd.\n"
     ]
    }
   ],
   "source": [
    "from datetime import datetime\n",
    "\n",
    "odds= [1,3,5,7,9,11,13,15,17,19,\n",
    "      21,23,25,27,29,31,33,35,37,39,\n",
    "      41,43,45,47,49,51,53,55,57,59]\n",
    "\n",
    "right_this_minute= datetime.today().minute\n",
    "\n",
    "if right_this_minute in odds:\n",
    "    print(\"This minute seems a little odd.\")\n",
    "else:\n",
    "    print(\"Not an odd minute.\")"
   ]
  },
  {
   "cell_type": "code",
   "execution_count": 10,
   "id": "523b8d6c",
   "metadata": {},
   "outputs": [
    {
     "name": "stdout",
     "output_type": "stream",
     "text": [
      "please write your number: 56\n",
      "Ohh! Your number is bigger than 10!!!\n"
     ]
    }
   ],
   "source": [
    "x=int(input(\"please write your number: \"))\n",
    "if x > 10:\n",
    "    print(\"Ohh! Your number is bigger than 10!!!\")\n",
    "else:\n",
    "    print(\"Your number is acceptable.\")"
   ]
  },
  {
   "cell_type": "code",
   "execution_count": 19,
   "id": "ec2afc3a",
   "metadata": {},
   "outputs": [
    {
     "name": "stdout",
     "output_type": "stream",
     "text": [
      "Esmet chie? jadi\n",
      "Salaammm Jadi, To ham injayi?!\n"
     ]
    }
   ],
   "source": [
    "esm= input(\"Esmet chie? \")\n",
    "if esm==\"Mehdi\" or esm==\"mehdi\":\n",
    "    print(\"Salam Khodam!\")\n",
    "elif esm==\"Jadi\"or esm==\"jadi\":\n",
    "    print(\"Salaammm Jadi, To ham injayi?!\")\n",
    "else:\n",
    "    print(\"Salam Gharibeh!\")"
   ]
  },
  {
   "cell_type": "code",
   "execution_count": 22,
   "id": "f5a77cd0",
   "metadata": {},
   "outputs": [
    {
     "name": "stdout",
     "output_type": "stream",
     "text": [
      "salam Jadi\n",
      "Bye bye Jadi\n"
     ]
    }
   ],
   "source": [
    "def salambye(name):\n",
    "    print(\"salam\", name)\n",
    "    print(\"Bye bye\", name)\n",
    "    \n",
    "salambye(\"Jadi\")"
   ]
  },
  {
   "cell_type": "code",
   "execution_count": 24,
   "id": "e74d1cd9",
   "metadata": {},
   "outputs": [
    {
     "name": "stdout",
     "output_type": "stream",
     "text": [
      "Please insert your first number: 4\n",
      "Please insert your second number: 5\n",
      "Sum of your numbers is:  9.0\n"
     ]
    }
   ],
   "source": [
    "def sum(a, b):\n",
    "    sum = a + b\n",
    "    return sum\n",
    "\n",
    "x= float(input(\"Please insert your first number: \"))\n",
    "y= float(input(\"Please insert your second number: \"))\n",
    "print(\"Sum of your numbers is: \", sum(x,y))"
   ]
  },
  {
   "cell_type": "code",
   "execution_count": 25,
   "id": "3ad324ba",
   "metadata": {},
   "outputs": [
    {
     "name": "stdout",
     "output_type": "stream",
     "text": [
      "20\n"
     ]
    }
   ],
   "source": [
    "def salary(hour, per_hour):\n",
    "    salary = hour*per_hour\n",
    "    return salary\n",
    "\n",
    "print(salary(4,5))"
   ]
  },
  {
   "cell_type": "code",
   "execution_count": 26,
   "id": "92e031f8",
   "metadata": {},
   "outputs": [
    {
     "name": "stdout",
     "output_type": "stream",
     "text": [
      "5\n",
      "4\n",
      "3\n",
      "2\n",
      "1\n"
     ]
    }
   ],
   "source": [
    "n=5\n",
    "while n>0:\n",
    "    print(n)\n",
    "    n -= 1"
   ]
  },
  {
   "cell_type": "code",
   "execution_count": 31,
   "id": "4b37d599",
   "metadata": {},
   "outputs": [
    {
     "name": "stdout",
     "output_type": "stream",
     "text": [
      "2\n",
      "4\n",
      "6\n",
      "8\n",
      "10\n"
     ]
    }
   ],
   "source": [
    "n=2\n",
    "while n>0:\n",
    "    print(n)\n",
    "    n += 2\n",
    "    if n>11:\n",
    "        break"
   ]
  },
  {
   "cell_type": "code",
   "execution_count": 34,
   "id": "e56cef13",
   "metadata": {},
   "outputs": [
    {
     "name": "stdout",
     "output_type": "stream",
     "text": [
      "1 2\n",
      "2 4\n",
      "3 8\n",
      "4 16\n",
      "5 32\n",
      "6 64\n",
      "7 128\n",
      "8 256\n",
      "9 512\n"
     ]
    }
   ],
   "source": [
    "for i in range(1,10):\n",
    "    print(i, 2**i)"
   ]
  },
  {
   "cell_type": "code",
   "execution_count": 38,
   "id": "55ed30c4",
   "metadata": {},
   "outputs": [
    {
     "name": "stdout",
     "output_type": "stream",
     "text": [
      "salam Hasan\n",
      "salam Mirsa\n",
      "salam Tahmine\n",
      "I said 3 Salams.\n"
     ]
    }
   ],
   "source": [
    "friends=[\"Hasan\",\"Mirsa\",\"Tahmine\"]\n",
    "\n",
    "count=0\n",
    "for thisone in friends:\n",
    "    print(\"salam\", thisone)\n",
    "    count +=1\n",
    "print(\"I said\", count ,\"Salams.\")"
   ]
  },
  {
   "cell_type": "code",
   "execution_count": 42,
   "id": "b74ba9a3",
   "metadata": {},
   "outputs": [
    {
     "name": "stdout",
     "output_type": "stream",
     "text": [
      "Please insert your first number: 5\n",
      "If you enter -1 that means you will the average.\n",
      "Please insert your other number: 8\n",
      "Please insert your other number: 6\n",
      "Please insert your other number: 5\n",
      "Please insert your other number: 4\n",
      "Please insert your other number: 9\n",
      "Please insert your other number: 5\n",
      "Please insert your other number: -1\n",
      "The average is=  6.0\n"
     ]
    }
   ],
   "source": [
    "x= float(input(\"Please insert your first number: \"))\n",
    "print(\"If you enter -1 that means you will the average.\")\n",
    "\n",
    "sum =0\n",
    "count =0\n",
    "while x!=-1:\n",
    "    sum += x\n",
    "    count += 1\n",
    "    x= float(input(\"Please insert your other number: \"))\n",
    "Average= sum/count\n",
    "print(\"The average is= \", Average)"
   ]
  },
  {
   "cell_type": "code",
   "execution_count": 68,
   "id": "305ffcfe",
   "metadata": {},
   "outputs": [
    {
     "name": "stdout",
     "output_type": "stream",
     "text": [
      "Please insert a number between 1 and 100: 50\n",
      "Your number is smaller than the Key!!! Try Again!\n",
      "Please insert a number between 1 and 100: 60\n",
      "Your number is smaller than the Key!!! Try Again!\n",
      "Please insert a number between 1 and 100: 70\n",
      "Your number is smaller than the Key!!! Try Again!\n",
      "Please insert a number between 1 and 100: 80\n",
      "Your number is greater than the Key!!! Try Again!\n",
      "Please insert a number between 1 and 100: 75\n",
      "Your number is smaller than the Key!!! Try Again!\n",
      "Please insert a number between 1 and 100: 76\n",
      "Your number is smaller than the Key!!! Try Again!\n",
      "Please insert a number between 1 and 100: 77\n",
      "Huuuuraaaa! Your number is the Key!!!!!!!!!!!!!\n"
     ]
    }
   ],
   "source": [
    "from random import randint\n",
    "\n",
    "key= randint(0,100)\n",
    "x=-1\n",
    "while x!=key:\n",
    "    x= int(input(\"Please insert a number between 1 and 100: \"))\n",
    "    if x>key:\n",
    "        print(\"Your number is greater than the Key!!! Try Again!\")\n",
    "    elif x<key:\n",
    "        print(\"Your number is smaller than the Key!!! Try Again!\")\n",
    "    else:\n",
    "        print(\"Huuuuraaaa! Your number is the Key!!!!!!!!!!!!!\")"
   ]
  },
  {
   "cell_type": "code",
   "execution_count": 89,
   "id": "28ce7d7a",
   "metadata": {},
   "outputs": [
    {
     "name": "stdout",
     "output_type": "stream",
     "text": [
      "Hi, Have a number between 1 and 100 in your head. I would find out your number.\n",
      "I think the number is: 61\n",
      "Is your Number greater or smaller than that or is Right? (G/S/R)? G\n",
      "I think the number is: 63\n",
      "Is your Number greater or smaller than that or is Right? (G/S/R)? S\n",
      "I think the number is: 62\n",
      "Is your Number greater or smaller than that or is Right? (G/S/R)? R\n",
      "HuuuRaaaaa!!! Your Number was:  62\n",
      "I could find your Number in 3 time/s.\n"
     ]
    }
   ],
   "source": [
    "from random import randint\n",
    "\n",
    "print(\"Hi, Have a number between 1 and 100 in your head. I would find out your number.\")\n",
    "\n",
    "x_1= 1\n",
    "x_2= 100\n",
    "answer= 0\n",
    "count=0\n",
    "\n",
    "while answer!=\"R\":\n",
    "    count += 1\n",
    "    x= randint(x_1,x_2)\n",
    "    print(\"I think the number is:\", x)\n",
    "    answer= input(\"Is your Number greater or smaller than that or is Right? (G/S/R)? \")\n",
    "    if answer==\"G\":\n",
    "        x_1 = x\n",
    "    elif answer==\"S\":\n",
    "        x_2 = x\n",
    "\n",
    "print(\"HuuuRaaaaa!!! Your Number was: \", x)\n",
    "print(\"I could find your Number in\", count ,\"time/s.\")"
   ]
  },
  {
   "cell_type": "code",
   "execution_count": null,
   "id": "f42b827d",
   "metadata": {},
   "outputs": [],
   "source": []
  }
 ],
 "metadata": {
  "kernelspec": {
   "display_name": "Python 3 (ipykernel)",
   "language": "python",
   "name": "python3"
  },
  "language_info": {
   "codemirror_mode": {
    "name": "ipython",
    "version": 3
   },
   "file_extension": ".py",
   "mimetype": "text/x-python",
   "name": "python",
   "nbconvert_exporter": "python",
   "pygments_lexer": "ipython3",
   "version": "3.9.7"
  }
 },
 "nbformat": 4,
 "nbformat_minor": 5
}
