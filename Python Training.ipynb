{
 "cells": [
  {
   "cell_type": "code",
   "execution_count": 9,
   "id": "d1056de0",
   "metadata": {},
   "outputs": [
    {
     "name": "stdout",
     "output_type": "stream",
     "text": [
      "This minute seems a little odd.\n"
     ]
    }
   ],
   "source": [
    "from datetime import datetime\n",
    "\n",
    "odds= [1,3,5,7,9,11,13,15,17,19,\n",
    "      21,23,25,27,29,31,33,35,37,39,\n",
    "      41,43,45,47,49,51,53,55,57,59]\n",
    "\n",
    "right_this_minute= datetime.today().minute\n",
    "\n",
    "if right_this_minute in odds:\n",
    "    print(\"This minute seems a little odd.\")\n",
    "else:\n",
    "    print(\"Not an odd minute.\")"
   ]
  },
  {
   "cell_type": "code",
   "execution_count": 10,
   "id": "83d8cf46",
   "metadata": {},
   "outputs": [
    {
     "name": "stdout",
     "output_type": "stream",
     "text": [
      "please write your number: 56\n",
      "Ohh! Your number is bigger than 10!!!\n"
     ]
    }
   ],
   "source": [
    "x=int(input(\"please write your number: \"))\n",
    "if x > 10:\n",
    "    print(\"Ohh! Your number is bigger than 10!!!\")\n",
    "else:\n",
    "    print(\"Your number is acceptable.\")"
   ]
  },
  {
   "cell_type": "code",
   "execution_count": 19,
   "id": "06ad4b55",
   "metadata": {},
   "outputs": [
    {
     "name": "stdout",
     "output_type": "stream",
     "text": [
      "Esmet chie? jadi\n",
      "Salaammm Jadi, To ham injayi?!\n"
     ]
    }
   ],
   "source": [
    "esm= input(\"Esmet chie? \")\n",
    "if esm==\"Mehdi\" or esm==\"mehdi\":\n",
    "    print(\"Salam Khodam!\")\n",
    "elif esm==\"Jadi\"or esm==\"jadi\":\n",
    "    print(\"Salaammm Jadi, To ham injayi?!\")\n",
    "else:\n",
    "    print(\"Salam Gharibeh!\")"
   ]
  },
  {
   "cell_type": "code",
   "execution_count": null,
   "id": "d225d822",
   "metadata": {},
   "outputs": [],
   "source": []
  }
 ],
 "metadata": {
  "kernelspec": {
   "display_name": "Python 3 (ipykernel)",
   "language": "python",
   "name": "python3"
  },
  "language_info": {
   "codemirror_mode": {
    "name": "ipython",
    "version": 3
   },
   "file_extension": ".py",
   "mimetype": "text/x-python",
   "name": "python",
   "nbconvert_exporter": "python",
   "pygments_lexer": "ipython3",
   "version": "3.9.7"
  }
 },
 "nbformat": 4,
 "nbformat_minor": 5
}
