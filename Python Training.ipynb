{
 "cells": [
  {
   "cell_type": "code",
   "execution_count": 9,
   "id": "d1056de0",
   "metadata": {},
   "outputs": [
    {
     "name": "stdout",
     "output_type": "stream",
     "text": [
      "This minute seems a little odd.\n"
     ]
    }
   ],
   "source": [
    "from datetime import datetime\n",
    "\n",
    "odds= [1,3,5,7,9,11,13,15,17,19,\n",
    "      21,23,25,27,29,31,33,35,37,39,\n",
    "      41,43,45,47,49,51,53,55,57,59]\n",
    "\n",
    "right_this_minute= datetime.today().minute\n",
    "\n",
    "if right_this_minute in odds:\n",
    "    print(\"This minute seems a little odd.\")\n",
    "else:\n",
    "    print(\"Not an odd minute.\")"
   ]
  },
  {
   "cell_type": "code",
   "execution_count": 10,
   "id": "d4e888f1",
   "metadata": {},
   "outputs": [
    {
     "name": "stdout",
     "output_type": "stream",
     "text": [
      "please write your number: 56\n",
      "Ohh! Your number is bigger than 10!!!\n"
     ]
    }
   ],
   "source": [
    "x=int(input(\"please write your number: \"))\n",
    "if x > 10:\n",
    "    print(\"Ohh! Your number is bigger than 10!!!\")\n",
    "else:\n",
    "    print(\"Your number is acceptable.\")"
   ]
  },
  {
   "cell_type": "code",
   "execution_count": 19,
   "id": "f61d379b",
   "metadata": {},
   "outputs": [
    {
     "name": "stdout",
     "output_type": "stream",
     "text": [
      "Esmet chie? jadi\n",
      "Salaammm Jadi, To ham injayi?!\n"
     ]
    }
   ],
   "source": [
    "esm= input(\"Esmet chie? \")\n",
    "if esm==\"Mehdi\" or esm==\"mehdi\":\n",
    "    print(\"Salam Khodam!\")\n",
    "elif esm==\"Jadi\"or esm==\"jadi\":\n",
    "    print(\"Salaammm Jadi, To ham injayi?!\")\n",
    "else:\n",
    "    print(\"Salam Gharibeh!\")"
   ]
  },
  {
   "cell_type": "code",
   "execution_count": 22,
   "id": "b10c9744",
   "metadata": {},
   "outputs": [
    {
     "name": "stdout",
     "output_type": "stream",
     "text": [
      "salam Jadi\n",
      "Bye bye Jadi\n"
     ]
    }
   ],
   "source": [
    "def salambye(name):\n",
    "    print(\"salam\", name)\n",
    "    print(\"Bye bye\", name)\n",
    "    \n",
    "salambye(\"Jadi\")"
   ]
  },
  {
   "cell_type": "code",
   "execution_count": 24,
   "id": "846783bf",
   "metadata": {},
   "outputs": [
    {
     "name": "stdout",
     "output_type": "stream",
     "text": [
      "Please insert your first number: 4\n",
      "Please insert your second number: 5\n",
      "Sum of your numbers is:  9.0\n"
     ]
    }
   ],
   "source": [
    "def sum(a, b):\n",
    "    sum = a + b\n",
    "    return sum\n",
    "\n",
    "x= float(input(\"Please insert your first number: \"))\n",
    "y= float(input(\"Please insert your second number: \"))\n",
    "print(\"Sum of your numbers is: \", sum(x,y))"
   ]
  },
  {
   "cell_type": "code",
   "execution_count": 25,
   "id": "a47e5276",
   "metadata": {},
   "outputs": [
    {
     "name": "stdout",
     "output_type": "stream",
     "text": [
      "20\n"
     ]
    }
   ],
   "source": [
    "def salary(hour, per_hour):\n",
    "    salary = hour*per_hour\n",
    "    return salary\n",
    "\n",
    "print(salary(4,5))"
   ]
  },
  {
   "cell_type": "code",
   "execution_count": 26,
   "id": "60d1a4b9",
   "metadata": {},
   "outputs": [
    {
     "name": "stdout",
     "output_type": "stream",
     "text": [
      "5\n",
      "4\n",
      "3\n",
      "2\n",
      "1\n"
     ]
    }
   ],
   "source": [
    "n=5\n",
    "while n>0:\n",
    "    print(n)\n",
    "    n -= 1"
   ]
  },
  {
   "cell_type": "code",
   "execution_count": 31,
   "id": "f6af324f",
   "metadata": {},
   "outputs": [
    {
     "name": "stdout",
     "output_type": "stream",
     "text": [
      "2\n",
      "4\n",
      "6\n",
      "8\n",
      "10\n"
     ]
    }
   ],
   "source": [
    "n=2\n",
    "while n>0:\n",
    "    print(n)\n",
    "    n += 2\n",
    "    if n>11:\n",
    "        break"
   ]
  },
  {
   "cell_type": "code",
   "execution_count": 34,
   "id": "a9d583e9",
   "metadata": {},
   "outputs": [
    {
     "name": "stdout",
     "output_type": "stream",
     "text": [
      "1 2\n",
      "2 4\n",
      "3 8\n",
      "4 16\n",
      "5 32\n",
      "6 64\n",
      "7 128\n",
      "8 256\n",
      "9 512\n"
     ]
    }
   ],
   "source": [
    "for i in range(1,10):\n",
    "    print(i, 2**i)"
   ]
  },
  {
   "cell_type": "code",
   "execution_count": 38,
   "id": "05f5d0ca",
   "metadata": {},
   "outputs": [
    {
     "name": "stdout",
     "output_type": "stream",
     "text": [
      "salam Hasan\n",
      "salam Mirsa\n",
      "salam Tahmine\n",
      "I said 3 Salams.\n"
     ]
    }
   ],
   "source": [
    "friends=[\"Hasan\",\"Mirsa\",\"Tahmine\"]\n",
    "\n",
    "count=0\n",
    "for thisone in friends:\n",
    "    print(\"salam\", thisone)\n",
    "    count +=1\n",
    "print(\"I said\", count ,\"Salams.\")"
   ]
  },
  {
   "cell_type": "code",
   "execution_count": 42,
   "id": "ccafd2e9",
   "metadata": {},
   "outputs": [
    {
     "name": "stdout",
     "output_type": "stream",
     "text": [
      "Please insert your first number: 5\n",
      "If you enter -1 that means you will the average.\n",
      "Please insert your other number: 8\n",
      "Please insert your other number: 6\n",
      "Please insert your other number: 5\n",
      "Please insert your other number: 4\n",
      "Please insert your other number: 9\n",
      "Please insert your other number: 5\n",
      "Please insert your other number: -1\n",
      "The average is=  6.0\n"
     ]
    }
   ],
   "source": [
    "x= float(input(\"Please insert your first number: \"))\n",
    "print(\"If you enter -1 that means you will the average.\")\n",
    "\n",
    "sum =0\n",
    "count =0\n",
    "while x!=-1:\n",
    "    sum += x\n",
    "    count += 1\n",
    "    x= float(input(\"Please insert your other number: \"))\n",
    "Average= sum/count\n",
    "print(\"The average is= \", Average)"
   ]
  },
  {
   "cell_type": "code",
   "execution_count": 68,
   "id": "416583ae",
   "metadata": {},
   "outputs": [
    {
     "name": "stdout",
     "output_type": "stream",
     "text": [
      "Please insert a number between 1 and 100: 50\n",
      "Your number is smaller than the Key!!! Try Again!\n",
      "Please insert a number between 1 and 100: 60\n",
      "Your number is smaller than the Key!!! Try Again!\n",
      "Please insert a number between 1 and 100: 70\n",
      "Your number is smaller than the Key!!! Try Again!\n",
      "Please insert a number between 1 and 100: 80\n",
      "Your number is greater than the Key!!! Try Again!\n",
      "Please insert a number between 1 and 100: 75\n",
      "Your number is smaller than the Key!!! Try Again!\n",
      "Please insert a number between 1 and 100: 76\n",
      "Your number is smaller than the Key!!! Try Again!\n",
      "Please insert a number between 1 and 100: 77\n",
      "Huuuuraaaa! Your number is the Key!!!!!!!!!!!!!\n"
     ]
    }
   ],
   "source": [
    "from random import randint\n",
    "\n",
    "key= randint(0,100)\n",
    "x=-1\n",
    "while x!=key:\n",
    "    x= int(input(\"Please insert a number between 1 and 100: \"))\n",
    "    if x>key:\n",
    "        print(\"Your number is greater than the Key!!! Try Again!\")\n",
    "    elif x<key:\n",
    "        print(\"Your number is smaller than the Key!!! Try Again!\")\n",
    "    else:\n",
    "        print(\"Huuuuraaaa! Your number is the Key!!!!!!!!!!!!!\")"
   ]
  },
  {
   "cell_type": "code",
   "execution_count": 89,
   "id": "8a497164",
   "metadata": {},
   "outputs": [
    {
     "name": "stdout",
     "output_type": "stream",
     "text": [
      "Hi, Have a number between 1 and 100 in your head. I would find out your number.\n",
      "I think the number is: 61\n",
      "Is your Number greater or smaller than that or is Right? (G/S/R)? G\n",
      "I think the number is: 63\n",
      "Is your Number greater or smaller than that or is Right? (G/S/R)? S\n",
      "I think the number is: 62\n",
      "Is your Number greater or smaller than that or is Right? (G/S/R)? R\n",
      "HuuuRaaaaa!!! Your Number was:  62\n",
      "I could find your Number in 3 time/s.\n"
     ]
    }
   ],
   "source": [
    "from random import randint\n",
    "\n",
    "print(\"Hi, Have a number between 1 and 100 in your head. I would find out your number.\")\n",
    "\n",
    "x_1= 1\n",
    "x_2= 100\n",
    "answer= 0\n",
    "count=0\n",
    "\n",
    "while answer!=\"R\":\n",
    "    count += 1\n",
    "    x= randint(x_1,x_2)\n",
    "    print(\"I think the number is:\", x)\n",
    "    answer= input(\"Is your Number greater or smaller than that or is Right? (G/S/R)? \")\n",
    "    if answer==\"G\":\n",
    "        x_1 = x\n",
    "    elif answer==\"S\":\n",
    "        x_2 = x\n",
    "\n",
    "print(\"HuuuRaaaaa!!! Your Number was: \", x)\n",
    "print(\"I could find your Number in\", count ,\"time/s.\")"
   ]
  },
  {
   "cell_type": "code",
   "execution_count": 91,
   "id": "74e7bd00",
   "metadata": {},
   "outputs": [
    {
     "data": {
      "text/plain": [
       "[<matplotlib.lines.Line2D at 0x1ad837e0dc0>,\n",
       " <matplotlib.lines.Line2D at 0x1ad837e0d90>,\n",
       " <matplotlib.lines.Line2D at 0x1ad837e0f70>]"
      ]
     },
     "execution_count": 91,
     "metadata": {},
     "output_type": "execute_result"
    },
    {
     "data": {
      "image/png": "[encoded data removed]",
      "text/plain": [
       "<Figure size 432x288 with 1 Axes>"
      ]
     },
     "metadata": {
      "needs_background": "light"
     },
     "output_type": "display_data"
    }
   ],
   "source": [
    "import matplotlib.pyplot as plt\n",
    "import numpy as np\n",
    "import pandas as pd\n",
    "%matplotlib inline\n",
    "\n",
    "t= np.arange(0,5,0.2)\n",
    "plt.plot(t,t,'r-.',   t,t**2,'bs',   t,t**3,'g^')"
   ]
  },
  {
   "cell_type": "code",
   "execution_count": 128,
   "id": "6d3b04d8",
   "metadata": {},
   "outputs": [
    {
     "data": {
      "text/html": [
       "<div>\n",
       "<style scoped>\n",
       "    .dataframe tbody tr th:only-of-type {\n",
       "        vertical-align: middle;\n",
       "    }\n",
       "\n",
       "    .dataframe tbody tr th {\n",
       "        vertical-align: top;\n",
       "    }\n",
       "\n",
       "    .dataframe thead th {\n",
       "        text-align: right;\n",
       "    }\n",
       "</style>\n",
       "<table border=\"1\" class=\"dataframe\">\n",
       "  <thead>\n",
       "    <tr style=\"text-align: right;\">\n",
       "      <th></th>\n",
       "      <th>a</th>\n",
       "      <th>b</th>\n",
       "      <th>c</th>\n",
       "    </tr>\n",
       "  </thead>\n",
       "  <tbody>\n",
       "    <tr>\n",
       "      <th>0</th>\n",
       "      <td>0</td>\n",
       "      <td>0</td>\n",
       "      <td>0.887048</td>\n",
       "    </tr>\n",
       "    <tr>\n",
       "      <th>1</th>\n",
       "      <td>1</td>\n",
       "      <td>40</td>\n",
       "      <td>0.844004</td>\n",
       "    </tr>\n",
       "    <tr>\n",
       "      <th>2</th>\n",
       "      <td>2</td>\n",
       "      <td>37</td>\n",
       "      <td>-0.598506</td>\n",
       "    </tr>\n",
       "    <tr>\n",
       "      <th>3</th>\n",
       "      <td>3</td>\n",
       "      <td>9</td>\n",
       "      <td>0.560551</td>\n",
       "    </tr>\n",
       "    <tr>\n",
       "      <th>4</th>\n",
       "      <td>4</td>\n",
       "      <td>20</td>\n",
       "      <td>0.794473</td>\n",
       "    </tr>\n",
       "  </tbody>\n",
       "</table>\n",
       "</div>"
      ],
      "text/plain": [
       "   a   b         c\n",
       "0  0   0  0.887048\n",
       "1  1  40  0.844004\n",
       "2  2  37 -0.598506\n",
       "3  3   9  0.560551\n",
       "4  4  20  0.794473"
      ]
     },
     "execution_count": 128,
     "metadata": {},
     "output_type": "execute_result"
    }
   ],
   "source": [
    "import matplotlib.pyplot as plt\n",
    "import numpy as np\n",
    "import pandas as pd\n",
    "%matplotlib inline\n",
    "\n",
    "data = pd.DataFrame({\n",
    "    'a': np.arange(500),\n",
    "    'b': np.random.randint(0,50,500),\n",
    "    'c':np.random.randn(500)})\n",
    "data.head()"
   ]
  },
  {
   "cell_type": "code",
   "execution_count": 129,
   "id": "f632a874",
   "metadata": {},
   "outputs": [
    {
     "data": {
      "text/plain": [
       "<matplotlib.collections.PathCollection at 0x1ad8797f760>"
      ]
     },
     "execution_count": 129,
     "metadata": {},
     "output_type": "execute_result"
    },
    {
     "data": {
      "image/png": "[encoded data removed]",
      "text/plain": [
       "<Figure size 432x288 with 1 Axes>"
      ]
     },
     "metadata": {
      "needs_background": "light"
     },
     "output_type": "display_data"
    }
   ],
   "source": [
    "plt.scatter(data['a'],data['c'])"
   ]
  },
  {
   "cell_type": "code",
   "execution_count": 130,
   "id": "47c7e86b",
   "metadata": {},
   "outputs": [
    {
     "name": "stdout",
     "output_type": "stream",
     "text": [
      "395\n",
      "105\n"
     ]
    }
   ],
   "source": [
    "msk= np.random.rand(len(data)) < 0.8\n",
    "train = data[msk]   #randomely about 80% of featured data frame as train set\n",
    "test = data[~msk]   #randomely about 20% of featured data frame as test set\n",
    "print(len(train))\n",
    "print(len(test))"
   ]
  },
  {
   "cell_type": "code",
   "execution_count": 131,
   "id": "f1e9f2bb",
   "metadata": {},
   "outputs": [
    {
     "data": {
      "image/png": "[encoded data removed]",
      "text/plain": [
       "<Figure size 432x288 with 1 Axes>"
      ]
     },
     "metadata": {
      "needs_background": "light"
     },
     "output_type": "display_data"
    }
   ],
   "source": [
    "fig = plt.figure()\n",
    "ax1 = fig.add_subplot(111)\n",
    "ax1.scatter(train['a'], train['c'], color='blue')\n",
    "ax1.scatter(test['a'], test['c'], color='red')\n",
    "plt.xlabel(\"a\")\n",
    "plt.ylabel(\"c\")\n",
    "plt.show()"
   ]
  },
  {
   "cell_type": "code",
   "execution_count": 132,
   "id": "66b97a21",
   "metadata": {},
   "outputs": [
    {
     "name": "stdout",
     "output_type": "stream",
     "text": [
      "LinearRegression()\n",
      "Coefficients:  [[-0.00057353]]\n",
      "Intercept:  [0.1628676]\n"
     ]
    }
   ],
   "source": [
    "from sklearn import linear_model\n",
    "regr = linear_model.LinearRegression()\n",
    "train_x = np.asanyarray(train[['a']])\n",
    "train_y = np.asanyarray(train[['c']])\n",
    "regr.fit (train_x, train_y)\n",
    "#The coefficients\n",
    "print(regr)\n",
    "print('Coefficients: ', regr.coef_)\n",
    "print('Intercept: ', regr.intercept_)"
   ]
  },
  {
   "cell_type": "code",
   "execution_count": 133,
   "id": "e2b16899",
   "metadata": {},
   "outputs": [
    {
     "data": {
      "text/plain": [
       "Text(0, 0.5, 'c')"
      ]
     },
     "execution_count": 133,
     "metadata": {},
     "output_type": "execute_result"
    },
    {
     "data": {
      "image/png": "[encoded data removed]",
      "text/plain": [
       "<Figure size 432x288 with 1 Axes>"
      ]
     },
     "metadata": {
      "needs_background": "light"
     },
     "output_type": "display_data"
    }
   ],
   "source": [
    "plt.scatter(train['a'], train['c'], color='blue')\n",
    "plt.plot(train_x, regr.coef_[0][0]*train_x + regr.intercept_[0], '-r')   #y=cx+i\n",
    "plt.xlabel(\"a\")\n",
    "plt.ylabel(\"c\")"
   ]
  },
  {
   "cell_type": "code",
   "execution_count": 134,
   "id": "7814b069",
   "metadata": {},
   "outputs": [
    {
     "name": "stdout",
     "output_type": "stream",
     "text": [
      "Mean absolute error: 0.73\n",
      "Residual sum of squares (MSE): 0.85\n",
      "R2-score: -0.05\n"
     ]
    }
   ],
   "source": [
    "from sklearn.metrics import r2_score\n",
    "\n",
    "test_x = np.asanyarray(test[['a']])\n",
    "test_y = np.asanyarray(test[['c']])\n",
    "test_y_= regr.predict(test_x)\n",
    "\n",
    "print(\"Mean absolute error: %.2f\" % np.mean(np.absolute(test_y_- test_y)))\n",
    "print(\"Residual sum of squares (MSE): %.2f\" % np.mean((test_y_-test_y)**2))\n",
    "print(\"R2-score: %.2f\" % r2_score(test_y , test_y_))"
   ]
  }
 ],
 "metadata": {
  "kernelspec": {
   "display_name": "Python 3 (ipykernel)",
   "language": "python",
   "name": "python3"
  },
  "language_info": {
   "codemirror_mode": {
    "name": "ipython",
    "version": 3
   },
   "file_extension": ".py",
   "mimetype": "text/x-python",
   "name": "python",
   "nbconvert_exporter": "python",
   "pygments_lexer": "ipython3",
   "version": "3.9.7"
  }
 },
 "nbformat": 4,
 "nbformat_minor": 5
}
