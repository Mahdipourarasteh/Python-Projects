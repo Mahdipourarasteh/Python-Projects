{
 "cells": [
  {
   "cell_type": "code",
   "execution_count": 9,
   "id": "d1056de0",
   "metadata": {},
   "outputs": [
    {
     "name": "stdout",
     "output_type": "stream",
     "text": [
      "This minute seems a little odd.\n"
     ]
    }
   ],
   "source": [
    "from datetime import datetime\n",
    "\n",
    "odds= [1,3,5,7,9,11,13,15,17,19,\n",
    "      21,23,25,27,29,31,33,35,37,39,\n",
    "      41,43,45,47,49,51,53,55,57,59]\n",
    "\n",
    "right_this_minute= datetime.today().minute\n",
    "\n",
    "if right_this_minute in odds:\n",
    "    print(\"This minute seems a little odd.\")\n",
    "else:\n",
    "    print(\"Not an odd minute.\")"
   ]
  },
  {
   "cell_type": "code",
   "execution_count": 10,
   "id": "f99174b3",
   "metadata": {},
   "outputs": [
    {
     "name": "stdout",
     "output_type": "stream",
     "text": [
      "please write your number: 56\n",
      "Ohh! Your number is bigger than 10!!!\n"
     ]
    }
   ],
   "source": [
    "x=int(input(\"please write your number: \"))\n",
    "if x > 10:\n",
    "    print(\"Ohh! Your number is bigger than 10!!!\")\n",
    "else:\n",
    "    print(\"Your number is acceptable.\")"
   ]
  },
  {
   "cell_type": "code",
   "execution_count": 19,
   "id": "42cca114",
   "metadata": {},
   "outputs": [
    {
     "name": "stdout",
     "output_type": "stream",
     "text": [
      "Esmet chie? jadi\n",
      "Salaammm Jadi, To ham injayi?!\n"
     ]
    }
   ],
   "source": [
    "esm= input(\"Esmet chie? \")\n",
    "if esm==\"Mehdi\" or esm==\"mehdi\":\n",
    "    print(\"Salam Khodam!\")\n",
    "elif esm==\"Jadi\"or esm==\"jadi\":\n",
    "    print(\"Salaammm Jadi, To ham injayi?!\")\n",
    "else:\n",
    "    print(\"Salam Gharibeh!\")"
   ]
  },
  {
   "cell_type": "code",
   "execution_count": 22,
   "id": "6b616c13",
   "metadata": {},
   "outputs": [
    {
     "name": "stdout",
     "output_type": "stream",
     "text": [
      "salam Jadi\n",
      "Bye bye Jadi\n"
     ]
    }
   ],
   "source": [
    "def salambye(name):\n",
    "    print(\"salam\", name)\n",
    "    print(\"Bye bye\", name)\n",
    "    \n",
    "salambye(\"Jadi\")"
   ]
  },
  {
   "cell_type": "code",
   "execution_count": 24,
   "id": "3dbc09ab",
   "metadata": {},
   "outputs": [
    {
     "name": "stdout",
     "output_type": "stream",
     "text": [
      "Please insert your first number: 4\n",
      "Please insert your second number: 5\n",
      "Sum of your numbers is:  9.0\n"
     ]
    }
   ],
   "source": [
    "def sum(a, b):\n",
    "    sum = a + b\n",
    "    return sum\n",
    "\n",
    "x= float(input(\"Please insert your first number: \"))\n",
    "y= float(input(\"Please insert your second number: \"))\n",
    "print(\"Sum of your numbers is: \", sum(x,y))"
   ]
  },
  {
   "cell_type": "code",
   "execution_count": 25,
   "id": "5f66548b",
   "metadata": {},
   "outputs": [
    {
     "name": "stdout",
     "output_type": "stream",
     "text": [
      "20\n"
     ]
    }
   ],
   "source": [
    "def salary(hour, per_hour):\n",
    "    salary = hour*per_hour\n",
    "    return salary\n",
    "\n",
    "print(salary(4,5))"
   ]
  },
  {
   "cell_type": "code",
   "execution_count": 26,
   "id": "62d412bc",
   "metadata": {},
   "outputs": [
    {
     "name": "stdout",
     "output_type": "stream",
     "text": [
      "5\n",
      "4\n",
      "3\n",
      "2\n",
      "1\n"
     ]
    }
   ],
   "source": [
    "n=5\n",
    "while n>0:\n",
    "    print(n)\n",
    "    n -= 1"
   ]
  },
  {
   "cell_type": "code",
   "execution_count": 31,
   "id": "892598ac",
   "metadata": {},
   "outputs": [
    {
     "name": "stdout",
     "output_type": "stream",
     "text": [
      "2\n",
      "4\n",
      "6\n",
      "8\n",
      "10\n"
     ]
    }
   ],
   "source": [
    "n=2\n",
    "while n>0:\n",
    "    print(n)\n",
    "    n += 2\n",
    "    if n>11:\n",
    "        break"
   ]
  },
  {
   "cell_type": "code",
   "execution_count": 34,
   "id": "541960e2",
   "metadata": {},
   "outputs": [
    {
     "name": "stdout",
     "output_type": "stream",
     "text": [
      "1 2\n",
      "2 4\n",
      "3 8\n",
      "4 16\n",
      "5 32\n",
      "6 64\n",
      "7 128\n",
      "8 256\n",
      "9 512\n"
     ]
    }
   ],
   "source": [
    "for i in range(1,10):\n",
    "    print(i, 2**i)"
   ]
  },
  {
   "cell_type": "code",
   "execution_count": 38,
   "id": "e7fae0bc",
   "metadata": {},
   "outputs": [
    {
     "name": "stdout",
     "output_type": "stream",
     "text": [
      "salam Hasan\n",
      "salam Mirsa\n",
      "salam Tahmine\n",
      "I said 3 Salams.\n"
     ]
    }
   ],
   "source": [
    "friends=[\"Hasan\",\"Mirsa\",\"Tahmine\"]\n",
    "\n",
    "count=0\n",
    "for thisone in friends:\n",
    "    print(\"salam\", thisone)\n",
    "    count +=1\n",
    "print(\"I said\", count ,\"Salams.\")"
   ]
  },
  {
   "cell_type": "code",
   "execution_count": 42,
   "id": "93cc411d",
   "metadata": {},
   "outputs": [
    {
     "name": "stdout",
     "output_type": "stream",
     "text": [
      "Please insert your first number: 5\n",
      "If you enter -1 that means you will the average.\n",
      "Please insert your other number: 8\n",
      "Please insert your other number: 6\n",
      "Please insert your other number: 5\n",
      "Please insert your other number: 4\n",
      "Please insert your other number: 9\n",
      "Please insert your other number: 5\n",
      "Please insert your other number: -1\n",
      "The average is=  6.0\n"
     ]
    }
   ],
   "source": [
    "x= float(input(\"Please insert your first number: \"))\n",
    "print(\"If you enter -1 that means you will the average.\")\n",
    "\n",
    "sum =0\n",
    "count =0\n",
    "while x!=-1:\n",
    "    sum += x\n",
    "    count += 1\n",
    "    x= float(input(\"Please insert your other number: \"))\n",
    "Average= sum/count\n",
    "print(\"The average is= \", Average)"
   ]
  },
  {
   "cell_type": "code",
   "execution_count": null,
   "id": "98f353ab",
   "metadata": {},
   "outputs": [],
   "source": []
  }
 ],
 "metadata": {
  "kernelspec": {
   "display_name": "Python 3 (ipykernel)",
   "language": "python",
   "name": "python3"
  },
  "language_info": {
   "codemirror_mode": {
    "name": "ipython",
    "version": 3
   },
   "file_extension": ".py",
   "mimetype": "text/x-python",
   "name": "python",
   "nbconvert_exporter": "python",
   "pygments_lexer": "ipython3",
   "version": "3.9.7"
  }
 },
 "nbformat": 4,
 "nbformat_minor": 5
}
