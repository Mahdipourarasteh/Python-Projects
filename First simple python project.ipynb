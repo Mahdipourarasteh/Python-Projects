{
 "cells": [
  {
   "cell_type": "markdown",
   "id": "0a5391a0",
   "metadata": {},
   "source": [
    "## First simple Python project to test the Jupyter Notebook"
   ]
  },
  {
   "cell_type": "markdown",
   "id": "28e905e8",
   "metadata": {},
   "source": [
    "**Hello**\n",
    "\n",
    "- in this project we write a code in python\n",
    "___\n",
    "\n",
    "```\n",
    "import numpy library\n",
    "write the new code\n",
    "print \n",
    "```\n",
    "the function $ y=x^2 $ is important"
   ]
  },
  {
   "cell_type": "code",
   "execution_count": null,
   "id": "48ebcc11",
   "metadata": {},
   "outputs": [],
   "source": [
    "x=int(input(\"Please enter your number: \"))"
   ]
  },
  {
   "cell_type": "code",
   "execution_count": null,
   "id": "aceac188",
   "metadata": {},
   "outputs": [],
   "source": [
    "y=x**2\n",
    "print(\"The square of your number is:\",y)"
   ]
  }
 ],
 "metadata": {
  "kernelspec": {
   "display_name": "Python 3 (ipykernel)",
   "language": "python",
   "name": "python3"
  },
  "language_info": {
   "codemirror_mode": {
    "name": "ipython",
    "version": 3
   },
   "file_extension": ".py",
   "mimetype": "text/x-python",
   "name": "python",
   "nbconvert_exporter": "python",
   "pygments_lexer": "ipython3",
   "version": "3.9.7"
  }
 },
 "nbformat": 4,
 "nbformat_minor": 5
}
